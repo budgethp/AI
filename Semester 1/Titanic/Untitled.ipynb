{
 "cells": [
  {
   "cell_type": "code",
   "execution_count": 1,
   "id": "f015ce84",
   "metadata": {},
   "outputs": [],
   "source": [
    "import pandas as pd"
   ]
  },
  {
   "cell_type": "code",
   "execution_count": 3,
   "id": "040190f4",
   "metadata": {},
   "outputs": [],
   "source": [
    "df = pd.read_csv(\"titanic.csv\")"
   ]
  },
  {
   "cell_type": "code",
   "execution_count": 13,
   "id": "d4ed89b1",
   "metadata": {},
   "outputs": [
    {
     "data": {
      "text/plain": [
       "PassengerId                   528\n",
       "Survived                        0\n",
       "Pclass                          1\n",
       "Name           Farthing, Mr. John\n",
       "Sex                          male\n",
       "Age                           NaN\n",
       "SibSp                           0\n",
       "Parch                           0\n",
       "Ticket                   PC 17483\n",
       "Fare                     221.7792\n",
       "Cabin                         C95\n",
       "Embarked                        S\n",
       "Name: 527, dtype: object"
      ]
     },
     "execution_count": 13,
     "metadata": {},
     "output_type": "execute_result"
    }
   ],
   "source": [
    "df.loc[527]"
   ]
  },
  {
   "cell_type": "code",
   "execution_count": 26,
   "id": "0a3fa8da",
   "metadata": {},
   "outputs": [
    {
     "data": {
      "text/plain": [
       "PassengerId                              707\n",
       "Survived                                   1\n",
       "Pclass                                     2\n",
       "Name           Kelly, Mrs. Florence \"Fannie\"\n",
       "Sex                                   female\n",
       "Age                                     45.0\n",
       "SibSp                                      0\n",
       "Parch                                      0\n",
       "Ticket                                223596\n",
       "Fare                                    13.5\n",
       "Cabin                                    NaN\n",
       "Embarked                                   S\n",
       "Name: 706, dtype: object"
      ]
     },
     "execution_count": 26,
     "metadata": {},
     "output_type": "execute_result"
    }
   ],
   "source": [
    "idx = 0\n",
    "for person in df[\"Name\"]:\n",
    "    if \"Fannie\" in person:\n",
    "        break\n",
    "    idx += 1\n",
    "df.loc[idx]"
   ]
  },
  {
   "cell_type": "code",
   "execution_count": 27,
   "id": "88c55e82",
   "metadata": {},
   "outputs": [
    {
     "data": {
      "text/html": [
       "<div>\n",
       "<style scoped>\n",
       "    .dataframe tbody tr th:only-of-type {\n",
       "        vertical-align: middle;\n",
       "    }\n",
       "\n",
       "    .dataframe tbody tr th {\n",
       "        vertical-align: top;\n",
       "    }\n",
       "\n",
       "    .dataframe thead th {\n",
       "        text-align: right;\n",
       "    }\n",
       "</style>\n",
       "<table border=\"1\" class=\"dataframe\">\n",
       "  <thead>\n",
       "    <tr style=\"text-align: right;\">\n",
       "      <th>Survived</th>\n",
       "      <th>0</th>\n",
       "      <th>1</th>\n",
       "    </tr>\n",
       "    <tr>\n",
       "      <th>Sex</th>\n",
       "      <th></th>\n",
       "      <th></th>\n",
       "    </tr>\n",
       "  </thead>\n",
       "  <tbody>\n",
       "    <tr>\n",
       "      <th>female</th>\n",
       "      <td>81</td>\n",
       "      <td>233</td>\n",
       "    </tr>\n",
       "    <tr>\n",
       "      <th>male</th>\n",
       "      <td>468</td>\n",
       "      <td>109</td>\n",
       "    </tr>\n",
       "  </tbody>\n",
       "</table>\n",
       "</div>"
      ],
      "text/plain": [
       "Survived    0    1\n",
       "Sex               \n",
       "female     81  233\n",
       "male      468  109"
      ]
     },
     "execution_count": 27,
     "metadata": {},
     "output_type": "execute_result"
    }
   ],
   "source": [
    "pd.crosstab(df['Sex'], df['Survived'])"
   ]
  },
  {
   "cell_type": "code",
   "execution_count": 42,
   "id": "b20a8f11",
   "metadata": {},
   "outputs": [
    {
     "name": "stdout",
     "output_type": "stream",
     "text": [
      "MaleSurvive = 109\n",
      "FemaleSurvive = 233\n",
      "MaleDied = 468\n",
      "FemaleDied = 81\n"
     ]
    }
   ],
   "source": [
    "MaleSurvive = 0\n",
    "FemaleSurvive = 0\n",
    "MaleDied = 0\n",
    "FemaleDied = 0\n",
    "for idx in range(len(df)):\n",
    "    if df.loc[idx][\"Sex\"] == \"male\" and df.loc[idx][\"Survived\"] == 1:\n",
    "        MaleSurvive += 1\n",
    "    if df.loc[idx][\"Sex\"] == \"male\" and df.loc[idx][\"Survived\"] == 0:\n",
    "        MaleDied += 1\n",
    "    if df.loc[idx][\"Sex\"] == \"female\" and df.loc[idx][\"Survived\"] == 1:\n",
    "        FemaleSurvive += 1\n",
    "    if df.loc[idx][\"Sex\"] == \"female\" and df.loc[idx][\"Survived\"] == 0:\n",
    "        FemaleDied += 1\n",
    "print(\"MaleSurvive = \" + str(MaleSurvive))\n",
    "print(\"FemaleSurvive = \" + str(FemaleSurvive))\n",
    "print(\"MaleDied = \" + str(MaleDied))\n",
    "print(\"FemaleDied = \" + str(FemaleDied))"
   ]
  },
  {
   "cell_type": "code",
   "execution_count": 50,
   "id": "77890a8c",
   "metadata": {},
   "outputs": [
    {
     "data": {
      "text/html": [
       "<div>\n",
       "<style scoped>\n",
       "    .dataframe tbody tr th:only-of-type {\n",
       "        vertical-align: middle;\n",
       "    }\n",
       "\n",
       "    .dataframe tbody tr th {\n",
       "        vertical-align: top;\n",
       "    }\n",
       "\n",
       "    .dataframe thead th {\n",
       "        text-align: right;\n",
       "    }\n",
       "</style>\n",
       "<table border=\"1\" class=\"dataframe\">\n",
       "  <thead>\n",
       "    <tr style=\"text-align: right;\">\n",
       "      <th></th>\n",
       "      <th>Child</th>\n",
       "      <th>Adult</th>\n",
       "      <th>Old</th>\n",
       "      <th>Very Old</th>\n",
       "    </tr>\n",
       "  </thead>\n",
       "  <tbody>\n",
       "    <tr>\n",
       "      <th>Survived</th>\n",
       "      <td>82</td>\n",
       "      <td>153</td>\n",
       "      <td>50</td>\n",
       "      <td>5</td>\n",
       "    </tr>\n",
       "    <tr>\n",
       "      <th>Died</th>\n",
       "      <td>97</td>\n",
       "      <td>232</td>\n",
       "      <td>78</td>\n",
       "      <td>17</td>\n",
       "    </tr>\n",
       "    <tr>\n",
       "      <th>Total</th>\n",
       "      <td>179</td>\n",
       "      <td>385</td>\n",
       "      <td>128</td>\n",
       "      <td>22</td>\n",
       "    </tr>\n",
       "  </tbody>\n",
       "</table>\n",
       "</div>"
      ],
      "text/plain": [
       "          Child  Adult  Old  Very Old\n",
       "Survived     82    153   50         5\n",
       "Died         97    232   78        17\n",
       "Total       179    385  128        22"
      ]
     },
     "execution_count": 50,
     "metadata": {},
     "output_type": "execute_result"
    }
   ],
   "source": [
    "zerototwenty = 0\n",
    "zerototwentydied = 0\n",
    "twentytoforty = 0\n",
    "twentytofortydied = 0\n",
    "fortytosixty = 0\n",
    "fortytosixtydied = 0\n",
    "sixtytoeighty = 0\n",
    "sixtytoeightydied = 0\n",
    "childtotal = 0\n",
    "adultotal = 0\n",
    "oldtotal = 0\n",
    "veryoldtotal = 0\n",
    "for idx in range(len(df)):\n",
    "    if df.loc[idx][\"Age\"] <= 20 and df.loc[idx][\"Survived\"] == 1:\n",
    "        zerototwenty += 1\n",
    "        childtotal += 1\n",
    "    if df.loc[idx][\"Age\"] <= 20 and df.loc[idx][\"Survived\"] == 0:\n",
    "        zerototwentydied += 1\n",
    "        childtotal += 1\n",
    "    if df.loc[idx][\"Age\"] > 20 and df.loc[idx][\"Age\"] <= 40 and df.loc[idx][\"Survived\"] == 1:\n",
    "        twentytoforty += 1\n",
    "        adultotal += 1\n",
    "    if df.loc[idx][\"Age\"] > 20 and df.loc[idx][\"Age\"] <= 40 and df.loc[idx][\"Survived\"] == 0:\n",
    "        twentytofortydied += 1\n",
    "        adultotal += 1\n",
    "    if df.loc[idx][\"Age\"] > 40 and df.loc[idx][\"Age\"] <= 60 and df.loc[idx][\"Survived\"] == 1:\n",
    "        fortytosixty += 1\n",
    "        oldtotal += 1\n",
    "    if df.loc[idx][\"Age\"] > 40 and df.loc[idx][\"Age\"] <= 60 and df.loc[idx][\"Survived\"] == 0:\n",
    "        fortytosixtydied += 1\n",
    "        oldtotal += 1\n",
    "    if df.loc[idx][\"Age\"] > 60 and df.loc[idx][\"Age\"] <= 80 and df.loc[idx][\"Survived\"] == 1:\n",
    "        sixtytoeighty += 1\n",
    "        veryoldtotal += 1\n",
    "    if df.loc[idx][\"Age\"] > 60 and df.loc[idx][\"Age\"] <= 80 and df.loc[idx][\"Survived\"] == 0:\n",
    "        sixtytoeightydied += 1\n",
    "        veryoldtotal += 1\n",
    "conTable = {\n",
    "    \"Child\": [zerototwenty, zerototwentydied, childtotal],\n",
    "    \"Adult\": [twentytoforty, twentytofortydied, adultotal],\n",
    "    \"Old\": [fortytosixty, fortytosixtydied, oldtotal],\n",
    "    \"Very Old\": [sixtytoeighty, sixtytoeightydied, veryoldtotal]\n",
    "}\n",
    "df2 = pd.DataFrame(conTable)\n",
    "df2.index = [\"Survived\", \"Died\", \"Total\"]\n",
    "df2.head()"
   ]
  },
  {
   "cell_type": "code",
   "execution_count": null,
   "id": "9cde2039",
   "metadata": {},
   "outputs": [],
   "source": []
  }
 ],
 "metadata": {
  "kernelspec": {
   "display_name": "Python 3 (ipykernel)",
   "language": "python",
   "name": "python3"
  },
  "language_info": {
   "codemirror_mode": {
    "name": "ipython",
    "version": 3
   },
   "file_extension": ".py",
   "mimetype": "text/x-python",
   "name": "python",
   "nbconvert_exporter": "python",
   "pygments_lexer": "ipython3",
   "version": "3.9.13"
  }
 },
 "nbformat": 4,
 "nbformat_minor": 5
}
