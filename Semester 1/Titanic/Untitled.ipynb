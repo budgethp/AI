{
 "cells": [
  {
   "cell_type": "code",
   "execution_count": 7,
   "id": "f015ce84",
   "metadata": {},
   "outputs": [],
   "source": [
    "import pandas as pd"
   ]
  },
  {
   "cell_type": "code",
   "execution_count": 8,
   "id": "040190f4",
   "metadata": {},
   "outputs": [],
   "source": [
    "df = pd.read_csv(\"titanic.csv\")"
   ]
  },
  {
   "cell_type": "code",
   "execution_count": 9,
   "id": "d4ed89b1",
   "metadata": {},
   "outputs": [
    {
     "data": {
      "text/plain": [
       "PassengerId                   528\n",
       "Survived                        0\n",
       "Pclass                          1\n",
       "Name           Farthing, Mr. John\n",
       "Sex                          male\n",
       "Age                           NaN\n",
       "SibSp                           0\n",
       "Parch                           0\n",
       "Ticket                   PC 17483\n",
       "Fare                     221.7792\n",
       "Cabin                         C95\n",
       "Embarked                        S\n",
       "Name: 527, dtype: object"
      ]
     },
     "execution_count": 9,
     "metadata": {},
     "output_type": "execute_result"
    }
   ],
   "source": [
    "df.loc[527]"
   ]
  },
  {
   "cell_type": "code",
   "execution_count": 26,
   "id": "0a3fa8da",
   "metadata": {},
   "outputs": [
    {
     "data": {
      "text/plain": [
       "PassengerId                              707\n",
       "Survived                                   1\n",
       "Pclass                                     2\n",
       "Name           Kelly, Mrs. Florence \"Fannie\"\n",
       "Sex                                   female\n",
       "Age                                     45.0\n",
       "SibSp                                      0\n",
       "Parch                                      0\n",
       "Ticket                                223596\n",
       "Fare                                    13.5\n",
       "Cabin                                    NaN\n",
       "Embarked                                   S\n",
       "Name: 706, dtype: object"
      ]
     },
     "execution_count": 26,
     "metadata": {},
     "output_type": "execute_result"
    }
   ],
   "source": [
    "idx = 0\n",
    "for person in df[\"Name\"]:\n",
    "    if \"Fannie\" in person:\n",
    "        break\n",
    "    idx += 1\n",
    "df.loc[idx]"
   ]
  },
  {
   "cell_type": "code",
   "execution_count": 27,
   "id": "88c55e82",
   "metadata": {},
   "outputs": [
    {
     "data": {
      "text/html": [
       "<div>\n",
       "<style scoped>\n",
       "    .dataframe tbody tr th:only-of-type {\n",
       "        vertical-align: middle;\n",
       "    }\n",
       "\n",
       "    .dataframe tbody tr th {\n",
       "        vertical-align: top;\n",
       "    }\n",
       "\n",
       "    .dataframe thead th {\n",
       "        text-align: right;\n",
       "    }\n",
       "</style>\n",
       "<table border=\"1\" class=\"dataframe\">\n",
       "  <thead>\n",
       "    <tr style=\"text-align: right;\">\n",
       "      <th>Survived</th>\n",
       "      <th>0</th>\n",
       "      <th>1</th>\n",
       "    </tr>\n",
       "    <tr>\n",
       "      <th>Sex</th>\n",
       "      <th></th>\n",
       "      <th></th>\n",
       "    </tr>\n",
       "  </thead>\n",
       "  <tbody>\n",
       "    <tr>\n",
       "      <th>female</th>\n",
       "      <td>81</td>\n",
       "      <td>233</td>\n",
       "    </tr>\n",
       "    <tr>\n",
       "      <th>male</th>\n",
       "      <td>468</td>\n",
       "      <td>109</td>\n",
       "    </tr>\n",
       "  </tbody>\n",
       "</table>\n",
       "</div>"
      ],
      "text/plain": [
       "Survived    0    1\n",
       "Sex               \n",
       "female     81  233\n",
       "male      468  109"
      ]
     },
     "execution_count": 27,
     "metadata": {},
     "output_type": "execute_result"
    }
   ],
   "source": [
    "pd.crosstab(df['Sex'], df['Survived'])"
   ]
  },
  {
   "cell_type": "code",
   "execution_count": 6,
   "id": "b20a8f11",
   "metadata": {},
   "outputs": [
    {
     "ename": "NameError",
     "evalue": "name 'df' is not defined",
     "output_type": "error",
     "traceback": [
      "\u001b[1;31m---------------------------------------------------------------------------\u001b[0m",
      "\u001b[1;31mNameError\u001b[0m                                 Traceback (most recent call last)",
      "\u001b[1;32m~\\AppData\\Local\\Temp\\ipykernel_15796\\2703558858.py\u001b[0m in \u001b[0;36m<module>\u001b[1;34m\u001b[0m\n\u001b[0;32m      3\u001b[0m \u001b[0mMaleDied\u001b[0m \u001b[1;33m=\u001b[0m \u001b[1;36m0\u001b[0m\u001b[1;33m\u001b[0m\u001b[1;33m\u001b[0m\u001b[0m\n\u001b[0;32m      4\u001b[0m \u001b[0mFemaleDied\u001b[0m \u001b[1;33m=\u001b[0m \u001b[1;36m0\u001b[0m\u001b[1;33m\u001b[0m\u001b[1;33m\u001b[0m\u001b[0m\n\u001b[1;32m----> 5\u001b[1;33m \u001b[1;32mfor\u001b[0m \u001b[0midx\u001b[0m \u001b[1;32min\u001b[0m \u001b[0mrange\u001b[0m\u001b[1;33m(\u001b[0m\u001b[0mlen\u001b[0m\u001b[1;33m(\u001b[0m\u001b[0mdf\u001b[0m\u001b[1;33m)\u001b[0m\u001b[1;33m)\u001b[0m\u001b[1;33m:\u001b[0m\u001b[1;33m\u001b[0m\u001b[1;33m\u001b[0m\u001b[0m\n\u001b[0m\u001b[0;32m      6\u001b[0m     \u001b[1;32mif\u001b[0m \u001b[0mdf\u001b[0m\u001b[1;33m.\u001b[0m\u001b[0mloc\u001b[0m\u001b[1;33m[\u001b[0m\u001b[0midx\u001b[0m\u001b[1;33m]\u001b[0m\u001b[1;33m[\u001b[0m\u001b[1;34m\"Sex\"\u001b[0m\u001b[1;33m]\u001b[0m \u001b[1;33m==\u001b[0m \u001b[1;34m\"male\"\u001b[0m \u001b[1;32mand\u001b[0m \u001b[0mdf\u001b[0m\u001b[1;33m.\u001b[0m\u001b[0mloc\u001b[0m\u001b[1;33m[\u001b[0m\u001b[0midx\u001b[0m\u001b[1;33m]\u001b[0m\u001b[1;33m[\u001b[0m\u001b[1;34m\"Survived\"\u001b[0m\u001b[1;33m]\u001b[0m \u001b[1;33m==\u001b[0m \u001b[1;36m1\u001b[0m\u001b[1;33m:\u001b[0m\u001b[1;33m\u001b[0m\u001b[1;33m\u001b[0m\u001b[0m\n\u001b[0;32m      7\u001b[0m         \u001b[0mMaleSurvive\u001b[0m \u001b[1;33m+=\u001b[0m \u001b[1;36m1\u001b[0m\u001b[1;33m\u001b[0m\u001b[1;33m\u001b[0m\u001b[0m\n",
      "\u001b[1;31mNameError\u001b[0m: name 'df' is not defined"
     ]
    }
   ],
   "source": [
    "MaleSurvive = 0\n",
    "FemaleSurvive = 0\n",
    "MaleDied = 0\n",
    "FemaleDied = 0\n",
    "for idx in range(len(df)):\n",
    "    if df.loc[idx][\"Sex\"] == \"male\" and df.loc[idx][\"Survived\"] == 1:\n",
    "        MaleSurvive += 1\n",
    "    if df.loc[idx][\"Sex\"] == \"male\" and df.loc[idx][\"Survived\"] == 0:\n",
    "        MaleDied += 1\n",
    "    if df.loc[idx][\"Sex\"] == \"female\" and df.loc[idx][\"Survived\"] == 1:\n",
    "        FemaleSurvive += 1\n",
    "    if df.loc[idx][\"Sex\"] == \"female\" and df.loc[idx][\"Survived\"] == 0:\n",
    "        FemaleDied += 1\n",
    "print(\"MaleSurvive = \" + str(MaleSurvive))\n",
    "print(\"FemaleSurvive = \" + str(FemaleSurvive))\n",
    "print(\"MaleDied = \" + str(MaleDied))\n",
    "print(\"FemaleDied = \" + str(FemaleDied))"
   ]
  },
  {
   "cell_type": "code",
   "execution_count": 4,
   "id": "77890a8c",
   "metadata": {},
   "outputs": [
    {
     "ename": "NameError",
     "evalue": "name 'df' is not defined",
     "output_type": "error",
     "traceback": [
      "\u001b[1;31m---------------------------------------------------------------------------\u001b[0m",
      "\u001b[1;31mNameError\u001b[0m                                 Traceback (most recent call last)",
      "\u001b[1;32m~\\AppData\\Local\\Temp\\ipykernel_15796\\612139387.py\u001b[0m in \u001b[0;36m<module>\u001b[1;34m\u001b[0m\n\u001b[0;32m     11\u001b[0m \u001b[0moldtotal\u001b[0m \u001b[1;33m=\u001b[0m \u001b[1;36m0\u001b[0m\u001b[1;33m\u001b[0m\u001b[1;33m\u001b[0m\u001b[0m\n\u001b[0;32m     12\u001b[0m \u001b[0mveryoldtotal\u001b[0m \u001b[1;33m=\u001b[0m \u001b[1;36m0\u001b[0m\u001b[1;33m\u001b[0m\u001b[1;33m\u001b[0m\u001b[0m\n\u001b[1;32m---> 13\u001b[1;33m \u001b[1;32mfor\u001b[0m \u001b[0midx\u001b[0m \u001b[1;32min\u001b[0m \u001b[0mrange\u001b[0m\u001b[1;33m(\u001b[0m\u001b[0mlen\u001b[0m\u001b[1;33m(\u001b[0m\u001b[0mdf\u001b[0m\u001b[1;33m)\u001b[0m\u001b[1;33m)\u001b[0m\u001b[1;33m:\u001b[0m\u001b[1;33m\u001b[0m\u001b[1;33m\u001b[0m\u001b[0m\n\u001b[0m\u001b[0;32m     14\u001b[0m     \u001b[1;32mif\u001b[0m \u001b[0mdf\u001b[0m\u001b[1;33m.\u001b[0m\u001b[0mloc\u001b[0m\u001b[1;33m[\u001b[0m\u001b[0midx\u001b[0m\u001b[1;33m]\u001b[0m\u001b[1;33m[\u001b[0m\u001b[1;34m\"Age\"\u001b[0m\u001b[1;33m]\u001b[0m \u001b[1;33m<=\u001b[0m \u001b[1;36m20\u001b[0m \u001b[1;32mand\u001b[0m \u001b[0mdf\u001b[0m\u001b[1;33m.\u001b[0m\u001b[0mloc\u001b[0m\u001b[1;33m[\u001b[0m\u001b[0midx\u001b[0m\u001b[1;33m]\u001b[0m\u001b[1;33m[\u001b[0m\u001b[1;34m\"Survived\"\u001b[0m\u001b[1;33m]\u001b[0m \u001b[1;33m==\u001b[0m \u001b[1;36m1\u001b[0m\u001b[1;33m:\u001b[0m\u001b[1;33m\u001b[0m\u001b[1;33m\u001b[0m\u001b[0m\n\u001b[0;32m     15\u001b[0m         \u001b[0mzerototwenty\u001b[0m \u001b[1;33m+=\u001b[0m \u001b[1;36m1\u001b[0m\u001b[1;33m\u001b[0m\u001b[1;33m\u001b[0m\u001b[0m\n",
      "\u001b[1;31mNameError\u001b[0m: name 'df' is not defined"
     ]
    }
   ],
   "source": [
    "zerototwenty = 0\n",
    "zerototwentydied = 0\n",
    "twentytoforty = 0\n",
    "twentytofortydied = 0\n",
    "fortytosixty = 0\n",
    "fortytosixtydied = 0\n",
    "sixtytoeighty = 0\n",
    "sixtytoeightydied = 0\n",
    "childtotal = 0\n",
    "adultotal = 0\n",
    "oldtotal = 0\n",
    "veryoldtotal = 0\n",
    "for idx in range(len(df)):\n",
    "    if df.loc[idx][\"Age\"] <= 20 and df.loc[idx][\"Survived\"] == 1:\n",
    "        zerototwenty += 1\n",
    "        childtotal += 1\n",
    "    if df.loc[idx][\"Age\"] <= 20 and df.loc[idx][\"Survived\"] == 0:\n",
    "        zerototwentydied += 1\n",
    "        childtotal += 1\n",
    "    if df.loc[idx][\"Age\"] > 20 and df.loc[idx][\"Age\"] <= 40 and df.loc[idx][\"Survived\"] == 1:\n",
    "        twentytoforty += 1\n",
    "        adultotal += 1\n",
    "    if df.loc[idx][\"Age\"] > 20 and df.loc[idx][\"Age\"] <= 40 and df.loc[idx][\"Survived\"] == 0:\n",
    "        twentytofortydied += 1\n",
    "        adultotal += 1\n",
    "    if df.loc[idx][\"Age\"] > 40 and df.loc[idx][\"Age\"] <= 60 and df.loc[idx][\"Survived\"] == 1:\n",
    "        fortytosixty += 1\n",
    "        oldtotal += 1\n",
    "    if df.loc[idx][\"Age\"] > 40 and df.loc[idx][\"Age\"] <= 60 and df.loc[idx][\"Survived\"] == 0:\n",
    "        fortytosixtydied += 1\n",
    "        oldtotal += 1\n",
    "    if df.loc[idx][\"Age\"] > 60 and df.loc[idx][\"Age\"] <= 80 and df.loc[idx][\"Survived\"] == 1:\n",
    "        sixtytoeighty += 1\n",
    "        veryoldtotal += 1\n",
    "    if df.loc[idx][\"Age\"] > 60 and df.loc[idx][\"Age\"] <= 80 and df.loc[idx][\"Survived\"] == 0:\n",
    "        sixtytoeightydied += 1\n",
    "        veryoldtotal += 1\n",
    "conTable = {\n",
    "    \"Child\": [zerototwenty, zerototwentydied, childtotal],\n",
    "    \"Adult\": [twentytoforty, twentytofortydied, adultotal],\n",
    "    \"Old\": [fortytosixty, fortytosixtydied, oldtotal],\n",
    "    \"Very Old\": [sixtytoeighty, sixtytoeightydied, veryoldtotal]\n",
    "}\n",
    "df2 = pd.DataFrame(conTable)\n",
    "df2.index = [\"Survived\", \"Died\", \"Total\"]\n",
    "df2.head()"
   ]
  },
  {
   "cell_type": "code",
   "execution_count": 11,
   "id": "9cde2039",
   "metadata": {},
   "outputs": [
    {
     "data": {
      "text/html": [
       "<div>\n",
       "<style scoped>\n",
       "    .dataframe tbody tr th:only-of-type {\n",
       "        vertical-align: middle;\n",
       "    }\n",
       "\n",
       "    .dataframe tbody tr th {\n",
       "        vertical-align: top;\n",
       "    }\n",
       "\n",
       "    .dataframe thead th {\n",
       "        text-align: right;\n",
       "    }\n",
       "</style>\n",
       "<table border=\"1\" class=\"dataframe\">\n",
       "  <thead>\n",
       "    <tr style=\"text-align: right;\">\n",
       "      <th></th>\n",
       "      <th>S</th>\n",
       "      <th>C</th>\n",
       "      <th>Q</th>\n",
       "    </tr>\n",
       "  </thead>\n",
       "  <tbody>\n",
       "    <tr>\n",
       "      <th>Survived</th>\n",
       "      <td>217</td>\n",
       "      <td>93</td>\n",
       "      <td>30</td>\n",
       "    </tr>\n",
       "    <tr>\n",
       "      <th>Died</th>\n",
       "      <td>427</td>\n",
       "      <td>75</td>\n",
       "      <td>47</td>\n",
       "    </tr>\n",
       "    <tr>\n",
       "      <th>Total</th>\n",
       "      <td>644</td>\n",
       "      <td>168</td>\n",
       "      <td>77</td>\n",
       "    </tr>\n",
       "  </tbody>\n",
       "</table>\n",
       "</div>"
      ],
      "text/plain": [
       "            S    C   Q\n",
       "Survived  217   93  30\n",
       "Died      427   75  47\n",
       "Total     644  168  77"
      ]
     },
     "execution_count": 11,
     "metadata": {},
     "output_type": "execute_result"
    }
   ],
   "source": [
    "sSurvived = 0\n",
    "cSurvived = 0\n",
    "qSurvived = 0\n",
    "sDied = 0\n",
    "cDied = 0\n",
    "qDied = 0\n",
    "sTotal = 0\n",
    "cTotal = 0\n",
    "qTotal = 0\n",
    "for idx in range(len(df)):\n",
    "    if df.loc[idx][\"Embarked\"] == \"S\" and df.loc[idx][\"Survived\"] == 1:\n",
    "        sSurvived += 1\n",
    "        sTotal += 1\n",
    "    elif df.loc[idx][\"Embarked\"] == \"S\" and df.loc[idx][\"Survived\"] == 0:\n",
    "        sDied += 1\n",
    "        sTotal += 1\n",
    "    elif df.loc[idx][\"Embarked\"] == \"C\" and df.loc[idx][\"Survived\"] == 1:\n",
    "        cSurvived += 1\n",
    "        cTotal += 1\n",
    "    elif df.loc[idx][\"Embarked\"] == \"C\" and df.loc[idx][\"Survived\"] == 0:\n",
    "        cDied += 1\n",
    "        cTotal += 1\n",
    "    elif df.loc[idx][\"Embarked\"] == \"Q\" and df.loc[idx][\"Survived\"] == 1:\n",
    "        qSurvived += 1\n",
    "        qTotal += 1\n",
    "    elif df.loc[idx][\"Embarked\"] == \"Q\" and df.loc[idx][\"Survived\"] == 0:\n",
    "        qDied += 1\n",
    "        qTotal += 1\n",
    "conTable = {\n",
    "    \"S\": [sSurvived, sDied, sTotal],\n",
    "    \"C\": [cSurvived, cDied, cTotal],\n",
    "    \"Q\": [qSurvived, qDied, qTotal]\n",
    "}\n",
    "df2 = pd.DataFrame(conTable)\n",
    "df2.index = [\"Survived\", \"Died\", \"Total\"]\n",
    "df2.head()\n"
   ]
  },
  {
   "cell_type": "code",
   "execution_count": 16,
   "id": "34fc095b",
   "metadata": {},
   "outputs": [],
   "source": [
    "import seaborn as sns"
   ]
  },
  {
   "cell_type": "code",
   "execution_count": 17,
   "id": "536609c2",
   "metadata": {},
   "outputs": [
    {
     "name": "stdout",
     "output_type": "stream",
     "text": [
      "{'C': 18.855218855218855, 'Q': 8.641975308641975, 'S': 72.27833894500561}\n"
     ]
    }
   ],
   "source": [
    "passengerCity = {\"C\": 0, \"Q\": 0, \"S\": 0}\n",
    "for passenger in df[\"Embarked\"]:\n",
    "    if passenger == \"C\":\n",
    "        passengerCity[\"C\"] += 1\n",
    "    elif passenger == \"Q\":\n",
    "        passengerCity[\"Q\"] += 1\n",
    "    elif passenger == \"S\":\n",
    "        passengerCity[\"S\"] += 1\n",
    "percentClasses = {\"C\": (passengerCity[\"C\"]/len(df))*100,\n",
    "                  \"Q\": (passengerCity[\"Q\"]/len(df))*100,\n",
    "                  \"S\": (passengerCity[\"S\"]/len(df))*100}\n",
    "print(percentClasses)"
   ]
  },
  {
   "cell_type": "code",
   "execution_count": null,
   "id": "ed1c5091",
   "metadata": {},
   "outputs": [],
   "source": []
  }
 ],
 "metadata": {
  "kernelspec": {
   "display_name": "Python 3 (ipykernel)",
   "language": "python",
   "name": "python3"
  },
  "language_info": {
   "codemirror_mode": {
    "name": "ipython",
    "version": 3
   },
   "file_extension": ".py",
   "mimetype": "text/x-python",
   "name": "python",
   "nbconvert_exporter": "python",
   "pygments_lexer": "ipython3",
   "version": "3.9.13"
  }
 },
 "nbformat": 4,
 "nbformat_minor": 5
}
