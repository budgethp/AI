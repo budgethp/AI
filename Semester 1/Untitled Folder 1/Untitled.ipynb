{
 "cells": [
  {
   "cell_type": "code",
   "execution_count": 1,
   "id": "cb812a61",
   "metadata": {},
   "outputs": [
    {
     "name": "stdout",
     "output_type": "stream",
     "text": [
      "Average Happy Meals needed: 29.682\n"
     ]
    }
   ],
   "source": [
    "import random\n",
    "\n",
    "def complete_set(n_toys=10):\n",
    "    toys_collected = set()  # Start with an empty set\n",
    "    meals_count = 0         # Number of Happy Meals needed\n",
    "    \n",
    "    # Keep buying Happy Meals until we have all toys\n",
    "    while len(toys_collected) < n_toys:\n",
    "        new_toy = random.randint(1, n_toys)  # Randomly choose a toy (1 to n_toys)\n",
    "        toys_collected.add(new_toy)          # Add the toy to our collection\n",
    "        meals_count += 1                     # Increment Happy Meals count\n",
    "    \n",
    "    return meals_count\n",
    "\n",
    "# Run the simulation multiple times to get an average number of Happy Meals needed\n",
    "def average_happy_meals(trials=1000, n_toys=10):\n",
    "    total_meals = sum(complete_set(n_toys) for _ in range(trials))\n",
    "    return total_meals / trials\n",
    "\n",
    "# Output the average number of Happy Meals required\n",
    "print(f\"Average Happy Meals needed: {average_happy_meals()}\")"
   ]
  },
  {
   "cell_type": "code",
   "execution_count": 2,
   "id": "1f07cb96",
   "metadata": {},
   "outputs": [
    {
     "name": "stdout",
     "output_type": "stream",
     "text": [
      "Red to Blue Ratio = 1.0\n",
      "Red to Green Ratio = 0.75\n",
      "Blue to Green Ratio = 0.75\n"
     ]
    }
   ],
   "source": [
    "import random\n",
    "\n",
    "empty = 30\n",
    "red = 0\n",
    "blue = 0\n",
    "green = 0\n",
    "\n",
    "def pick_marble():\n",
    "    global red, blue, green \n",
    "    newmarble = random.randint(1, 3)\n",
    "    if newmarble == 1:\n",
    "        red += 1\n",
    "    elif newmarble == 2:\n",
    "        blue += 1\n",
    "    elif newmarble == 3:\n",
    "        green += 1\n",
    "\n",
    "for _ in range(empty):\n",
    "    pick_marble()\n",
    "\n",
    "if blue != 0:\n",
    "    print(\"Red to Blue Ratio = \" + str(red / blue))\n",
    "else:\n",
    "    print(\"Divide by zero error\")\n",
    "\n",
    "if green != 0:\n",
    "    print(\"Red to Green Ratio = \" + str(red / green))\n",
    "    print(\"Blue to Green Ratio = \" + str(blue / green))\n",
    "else:\n",
    "    print(\"Divide by zero error\")\n",
    "\n",
    "        "
   ]
  },
  {
   "cell_type": "code",
   "execution_count": 8,
   "id": "dad1b418",
   "metadata": {},
   "outputs": [
    {
     "name": "stdout",
     "output_type": "stream",
     "text": [
      "6.6777\n"
     ]
    }
   ],
   "source": [
    "import random\n",
    "trials = 10000\n",
    "totalboxes = 0\n",
    "def find_chances():\n",
    "    tiger = 0\n",
    "    ronaldo = 0\n",
    "    serena = 0\n",
    "    openedboxes = 0\n",
    "    while(tiger == 0 or ronaldo == 0 or serena == 0):\n",
    "        carddraw = random.randint(1, 10)\n",
    "        if carddraw == 1 or carddraw == 2:\n",
    "            tiger += 1\n",
    "        if carddraw > 2 and carddraw < 6:\n",
    "            ronaldo += 1\n",
    "        if carddraw > 5:\n",
    "            serena += 1\n",
    "        openedboxes += 1\n",
    "    return openedboxes\n",
    "for i in range(trials):\n",
    "    totalboxes += find_chances()\n",
    "print(totalboxes/trials)\n",
    "        "
   ]
  },
  {
   "cell_type": "code",
   "execution_count": null,
   "id": "dd22f3ce",
   "metadata": {},
   "outputs": [],
   "source": []
  },
  {
   "cell_type": "code",
   "execution_count": null,
   "id": "9359ab95",
   "metadata": {},
   "outputs": [],
   "source": []
  }
 ],
 "metadata": {
  "kernelspec": {
   "display_name": "Python 3 (ipykernel)",
   "language": "python",
   "name": "python3"
  },
  "language_info": {
   "codemirror_mode": {
    "name": "ipython",
    "version": 3
   },
   "file_extension": ".py",
   "mimetype": "text/x-python",
   "name": "python",
   "nbconvert_exporter": "python",
   "pygments_lexer": "ipython3",
   "version": "3.9.13"
  }
 },
 "nbformat": 4,
 "nbformat_minor": 5
}
