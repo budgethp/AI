{
 "cells": [
  {
   "cell_type": "code",
   "execution_count": 2,
   "id": "eac1947d",
   "metadata": {},
   "outputs": [],
   "source": [
    "import pandas as pd\n",
    "import seaborn as sns\n",
    "import numpy as np\n",
    "df = pd.read_json('gme.json', encoding='ISO-8859-1')"
   ]
  },
  {
   "cell_type": "code",
   "execution_count": 3,
   "id": "f8194293",
   "metadata": {},
   "outputs": [
    {
     "name": "stdout",
     "output_type": "stream",
     "text": [
      "5600\n"
     ]
    }
   ],
   "source": [
    "print(len(df))"
   ]
  },
  {
   "cell_type": "code",
   "execution_count": 6,
   "id": "0e860e48",
   "metadata": {},
   "outputs": [
    {
     "name": "stdout",
     "output_type": "stream",
     "text": [
      "Date         2024-05-13 00:00:00\n",
      "Open                       26.34\n",
      "High                   38.200001\n",
      "Low                        24.77\n",
      "Close                  30.450001\n",
      "Adj Close              30.450001\n",
      "Volume                 182308700\n",
      "Name: 5599, dtype: object\n"
     ]
    }
   ],
   "source": [
    "print(df.loc[5599])"
   ]
  },
  {
   "cell_type": "code",
   "execution_count": 14,
   "id": "8cb69867",
   "metadata": {},
   "outputs": [],
   "source": [
    "years = {}"
   ]
  },
  {
   "cell_type": "code",
   "execution_count": 17,
   "id": "9fe31c28",
   "metadata": {},
   "outputs": [
    {
     "data": {
      "text/plain": [
       "{2002: 224,\n",
       " 2003: 252,\n",
       " 2004: 252,\n",
       " 2005: 252,\n",
       " 2006: 251,\n",
       " 2007: 251,\n",
       " 2008: 253,\n",
       " 2009: 252,\n",
       " 2010: 252,\n",
       " 2011: 252,\n",
       " 2012: 250,\n",
       " 2013: 252,\n",
       " 2014: 252,\n",
       " 2015: 252,\n",
       " 2016: 252,\n",
       " 2017: 251,\n",
       " 2018: 251,\n",
       " 2019: 252,\n",
       " 2020: 253,\n",
       " 2021: 252,\n",
       " 2022: 251,\n",
       " 2023: 250,\n",
       " 2024: 92}"
      ]
     },
     "execution_count": 17,
     "metadata": {},
     "output_type": "execute_result"
    }
   ],
   "source": [
    "for i in range(len(df)):\n",
    "    year = df.loc[i]['Date'].year\n",
    "    if year not in years.keys():\n",
    "        years[year] = 1\n",
    "    else:\n",
    "        years[year] += 1\n",
    "years"
   ]
  },
  {
   "cell_type": "code",
   "execution_count": null,
   "id": "29fe6be5",
   "metadata": {},
   "outputs": [],
   "source": []
  }
 ],
 "metadata": {
  "kernelspec": {
   "display_name": "Python 3 (ipykernel)",
   "language": "python",
   "name": "python3"
  },
  "language_info": {
   "codemirror_mode": {
    "name": "ipython",
    "version": 3
   },
   "file_extension": ".py",
   "mimetype": "text/x-python",
   "name": "python",
   "nbconvert_exporter": "python",
   "pygments_lexer": "ipython3",
   "version": "3.9.13"
  }
 },
 "nbformat": 4,
 "nbformat_minor": 5
}
