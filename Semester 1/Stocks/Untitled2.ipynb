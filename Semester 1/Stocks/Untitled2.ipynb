{
 "cells": [
  {
   "cell_type": "code",
   "execution_count": 19,
   "id": "0661fae7",
   "metadata": {},
   "outputs": [],
   "source": [
    "import pandas as pd\n",
    "import seaborn as sns\n",
    "import numpy as np\n",
    "import requests\n",
    "df = pd.read_json('gme.json', encoding='ISO-8859-1')"
   ]
  },
  {
   "cell_type": "code",
   "execution_count": 3,
   "id": "573e9f0c",
   "metadata": {},
   "outputs": [
    {
     "name": "stdout",
     "output_type": "stream",
     "text": [
      "5600\n"
     ]
    }
   ],
   "source": [
    "print(len(df))"
   ]
  },
  {
   "cell_type": "code",
   "execution_count": 6,
   "id": "564d6f83",
   "metadata": {},
   "outputs": [
    {
     "name": "stdout",
     "output_type": "stream",
     "text": [
      "Date         2024-05-13 00:00:00\n",
      "Open                       26.34\n",
      "High                   38.200001\n",
      "Low                        24.77\n",
      "Close                  30.450001\n",
      "Adj Close              30.450001\n",
      "Volume                 182308700\n",
      "Name: 5599, dtype: object\n"
     ]
    }
   ],
   "source": [
    "print(df.loc[5599])"
   ]
  },
  {
   "cell_type": "code",
   "execution_count": 14,
   "id": "b705f575",
   "metadata": {},
   "outputs": [],
   "source": [
    "years = {}"
   ]
  },
  {
   "cell_type": "code",
   "execution_count": 17,
   "id": "3497add7",
   "metadata": {},
   "outputs": [
    {
     "data": {
      "text/plain": [
       "{2002: 224,\n",
       " 2003: 252,\n",
       " 2004: 252,\n",
       " 2005: 252,\n",
       " 2006: 251,\n",
       " 2007: 251,\n",
       " 2008: 253,\n",
       " 2009: 252,\n",
       " 2010: 252,\n",
       " 2011: 252,\n",
       " 2012: 250,\n",
       " 2013: 252,\n",
       " 2014: 252,\n",
       " 2015: 252,\n",
       " 2016: 252,\n",
       " 2017: 251,\n",
       " 2018: 251,\n",
       " 2019: 252,\n",
       " 2020: 253,\n",
       " 2021: 252,\n",
       " 2022: 251,\n",
       " 2023: 250,\n",
       " 2024: 92}"
      ]
     },
     "execution_count": 17,
     "metadata": {},
     "output_type": "execute_result"
    }
   ],
   "source": [
    "for i in range(len(df)):\n",
    "    year = df.loc[i]['Date'].year\n",
    "    if year not in years.keys():\n",
    "        years[year] = 1\n",
    "    else:\n",
    "        years[year] += 1\n",
    "years"
   ]
  },
  {
   "cell_type": "code",
   "execution_count": 23,
   "id": "487037af",
   "metadata": {},
   "outputs": [
    {
     "name": "stdout",
     "output_type": "stream",
     "text": [
      "{'status': 'OK', 'from': '2024-09-26', 'symbol': 'GME', 'open': 22.4, 'high': 22.64, 'low': 21.87, 'close': 22.29, 'volume': 5771976.0, 'afterHours': 22.19, 'preMarket': 22.28}\n"
     ]
    }
   ],
   "source": [
    "url = 'https://api.polygon.io/v1/open-close/GME/2024-09-26?adjusted=false&apiKey=7D5CzmUoiB7fJq1uJeaUi13wadh3n4wC'\n",
    "r = requests.get(url)\n",
    "data = r.json()\n",
    "\n",
    "print(data)"
   ]
  },
  {
   "cell_type": "code",
   "execution_count": 24,
   "id": "42d017db",
   "metadata": {},
   "outputs": [
    {
     "name": "stdout",
     "output_type": "stream",
     "text": [
      "{'status': 'OK', 'from': '2024-09-26', 'symbol': 'GME', 'open': 22.4, 'high': 22.64, 'low': 21.87, 'close': 22.29, 'volume': 5771976.0, 'afterHours': 22.19, 'preMarket': 22.28}\n"
     ]
    }
   ],
   "source": [
    "print(data)"
   ]
  },
  {
   "cell_type": "code",
   "execution_count": 26,
   "id": "871684c6",
   "metadata": {},
   "outputs": [],
   "source": [
    "df.drop(columns=['Adj Close'], inplace=True)\n"
   ]
  },
  {
   "cell_type": "code",
   "execution_count": null,
   "id": "e65319c2",
   "metadata": {},
   "outputs": [],
   "source": []
  },
  {
   "cell_type": "code",
   "execution_count": 34,
   "id": "b050155c",
   "metadata": {},
   "outputs": [
    {
     "ename": "SyntaxError",
     "evalue": "invalid syntax (3306578883.py, line 2)",
     "output_type": "error",
     "traceback": [
      "\u001b[1;36m  File \u001b[1;32m\"C:\\Users\\phowlett\\AppData\\Local\\Temp\\ipykernel_21612\\3306578883.py\"\u001b[1;36m, line \u001b[1;32m2\u001b[0m\n\u001b[1;33m    data = {\"Date\": [],\"Open\": [],\"High\": [],\"Low\": [],\"Close\": [],\"Volume\" [] }\u001b[0m\n\u001b[1;37m                                                                             ^\u001b[0m\n\u001b[1;31mSyntaxError\u001b[0m\u001b[1;31m:\u001b[0m invalid syntax\n"
     ]
    }
   ],
   "source": [
    "def gather_data(start,end):\n",
    "    data = {\"Date\": [],\"Open\": [],\"High\": [],\"Low\": [],\"Close\": [],\"Volume\" [] }\n",
    "    url = 'https://api.polygon.io/v1/open-close/GME/2024-09-26?adjusted=false&apiKey=7D5CzmUoiB7fJq1uJeaUi13wadh3n4wC'\n",
    "    r = requests.get(url)\n",
    "    data = r.json()\n",
    "    date = pd.to_datetime('2024-09-14')\n",
    "    data[\"Date\"].append(data)\n",
    "    data[\"High\"].append(data[\"open\"])\n",
    "    data[\"Date\"].append(data[\"high\"])\n",
    "    data[\"Low\"].append(data[\"low\"])\n",
    "    data[\"Close\"].append(data[\"low\"])\n",
    "    data[\"Volume\"].append(data[\"volume\"])\n",
    "    return pd.DataFrame(data)"
   ]
  },
  {
   "cell_type": "code",
   "execution_count": null,
   "id": "3d488c2b",
   "metadata": {},
   "outputs": [],
   "source": []
  }
 ],
 "metadata": {
  "kernelspec": {
   "display_name": "Python 3 (ipykernel)",
   "language": "python",
   "name": "python3"
  },
  "language_info": {
   "codemirror_mode": {
    "name": "ipython",
    "version": 3
   },
   "file_extension": ".py",
   "mimetype": "text/x-python",
   "name": "python",
   "nbconvert_exporter": "python",
   "pygments_lexer": "ipython3",
   "version": "3.9.13"
  }
 },
 "nbformat": 4,
 "nbformat_minor": 5
}
