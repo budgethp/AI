{
 "cells": [
  {
   "cell_type": "code",
   "execution_count": 22,
   "id": "54ce21ca",
   "metadata": {},
   "outputs": [],
   "source": [
    "import pandas as pd\n",
    "import numpy as np\n",
    "import seaborn as sns\n",
    "import requests\n",
    "df = pd.read_json(\"gme.json\", encoding = 'ISO-8859-1')"
   ]
  },
  {
   "cell_type": "code",
   "execution_count": 23,
   "id": "b395db09",
   "metadata": {},
   "outputs": [],
   "source": [
    "\n",
    "df.drop('Adj Close', axis = 1, inplace=True)\n"
   ]
  },
  {
   "cell_type": "code",
   "execution_count": 24,
   "id": "b298b24b",
   "metadata": {},
   "outputs": [
    {
     "name": "stdout",
     "output_type": "stream",
     "text": [
      "<class 'pandas.core.frame.DataFrame'>\n",
      "RangeIndex: 5600 entries, 0 to 5599\n",
      "Data columns (total 6 columns):\n",
      " #   Column  Non-Null Count  Dtype         \n",
      "---  ------  --------------  -----         \n",
      " 0   Date    5600 non-null   datetime64[ns]\n",
      " 1   Open    5600 non-null   float64       \n",
      " 2   High    5600 non-null   float64       \n",
      " 3   Low     5600 non-null   float64       \n",
      " 4   Close   5600 non-null   float64       \n",
      " 5   Volume  5600 non-null   int64         \n",
      "dtypes: datetime64[ns](1), float64(4), int64(1)\n",
      "memory usage: 262.6 KB\n"
     ]
    }
   ],
   "source": [
    "df.info()"
   ]
  },
  {
   "cell_type": "code",
   "execution_count": 25,
   "id": "2fda7e25",
   "metadata": {},
   "outputs": [],
   "source": [
    "result = pd.concat([df,df2])"
   ]
  },
  {
   "cell_type": "code",
   "execution_count": 26,
   "id": "547e99f5",
   "metadata": {},
   "outputs": [
    {
     "ename": "AttributeError",
     "evalue": "'DataFrame' object has no attribute 'reset'",
     "output_type": "error",
     "traceback": [
      "\u001b[1;31m---------------------------------------------------------------------------\u001b[0m",
      "\u001b[1;31mAttributeError\u001b[0m                            Traceback (most recent call last)",
      "\u001b[1;32m~\\AppData\\Local\\Temp\\ipykernel_4576\\3775742003.py\u001b[0m in \u001b[0;36m<module>\u001b[1;34m\u001b[0m\n\u001b[1;32m----> 1\u001b[1;33m \u001b[0mresult\u001b[0m\u001b[1;33m.\u001b[0m\u001b[0mreset\u001b[0m\u001b[1;33m.\u001b[0m\u001b[0mindex\u001b[0m\u001b[1;33m(\u001b[0m\u001b[0minplace\u001b[0m\u001b[1;33m=\u001b[0m\u001b[1;32mTrue\u001b[0m\u001b[1;33m)\u001b[0m\u001b[1;33m\u001b[0m\u001b[1;33m\u001b[0m\u001b[0m\n\u001b[0m",
      "\u001b[1;32mC:\\ProgramData\\Anaconda3\\lib\\site-packages\\pandas\\core\\generic.py\u001b[0m in \u001b[0;36m__getattr__\u001b[1;34m(self, name)\u001b[0m\n\u001b[0;32m   5573\u001b[0m         ):\n\u001b[0;32m   5574\u001b[0m             \u001b[1;32mreturn\u001b[0m \u001b[0mself\u001b[0m\u001b[1;33m[\u001b[0m\u001b[0mname\u001b[0m\u001b[1;33m]\u001b[0m\u001b[1;33m\u001b[0m\u001b[1;33m\u001b[0m\u001b[0m\n\u001b[1;32m-> 5575\u001b[1;33m         \u001b[1;32mreturn\u001b[0m \u001b[0mobject\u001b[0m\u001b[1;33m.\u001b[0m\u001b[0m__getattribute__\u001b[0m\u001b[1;33m(\u001b[0m\u001b[0mself\u001b[0m\u001b[1;33m,\u001b[0m \u001b[0mname\u001b[0m\u001b[1;33m)\u001b[0m\u001b[1;33m\u001b[0m\u001b[1;33m\u001b[0m\u001b[0m\n\u001b[0m\u001b[0;32m   5576\u001b[0m \u001b[1;33m\u001b[0m\u001b[0m\n\u001b[0;32m   5577\u001b[0m     \u001b[1;32mdef\u001b[0m \u001b[0m__setattr__\u001b[0m\u001b[1;33m(\u001b[0m\u001b[0mself\u001b[0m\u001b[1;33m,\u001b[0m \u001b[0mname\u001b[0m\u001b[1;33m:\u001b[0m \u001b[0mstr\u001b[0m\u001b[1;33m,\u001b[0m \u001b[0mvalue\u001b[0m\u001b[1;33m)\u001b[0m \u001b[1;33m->\u001b[0m \u001b[1;32mNone\u001b[0m\u001b[1;33m:\u001b[0m\u001b[1;33m\u001b[0m\u001b[1;33m\u001b[0m\u001b[0m\n",
      "\u001b[1;31mAttributeError\u001b[0m: 'DataFrame' object has no attribute 'reset'"
     ]
    }
   ],
   "source": [
    "result.reset.index(inplace=True)"
   ]
  },
  {
   "cell_type": "code",
   "execution_count": 27,
   "id": "33904239",
   "metadata": {},
   "outputs": [],
   "source": [
    "url = 'https://api.polygon.io/v1/open-close/AMC/2024-05-14?adjusted=false&apiKey=7D5CzmUoiB7fJq1uJeaUi13wadh3n4wC'\n",
    "r = requests.get(url)\n",
    "data = r.json()"
   ]
  },
  {
   "cell_type": "code",
   "execution_count": 28,
   "id": "0808b6e7",
   "metadata": {},
   "outputs": [
    {
     "name": "stdout",
     "output_type": "stream",
     "text": [
      "{'status': 'OK', 'from': '2024-05-14', 'symbol': 'AMC', 'open': 11.88, 'high': 11.88, 'low': 5.85, 'close': 6.85, 'volume': 634227232.0, 'afterHours': 7.55, 'preMarket': 7.34}\n"
     ]
    }
   ],
   "source": [
    "print(data)"
   ]
  },
  {
   "cell_type": "code",
   "execution_count": 36,
   "id": "dd8a5b16",
   "metadata": {},
   "outputs": [],
   "source": [
    "def gather_data(start, end):\n",
    "    '''\n",
    "    Request a json payload from Polygon.io for each day within the timeframe, described by\n",
    "    {start} and {end}.\n",
    "    Once I get json for a day, I need to add it to a dictionary before returning the dataframe.\n",
    "    '''\n",
    "    # Create dictionary for final dataframe\n",
    "    data = {\"Date\": [],\"Open\": [],\"High\": [],\"Low\": [],\"Close\": [],\"Volume\": []}\n",
    "    \n",
    "    # Get the month as a number to iterate through timespan\n",
    "    startMonth = pd.to_datetime(start).month\n",
    "    endMonth = pd.to_datetime(end).month\n",
    "    \n",
    "    # Iterate through timespan\n",
    "    for month in range(startMonth, endMonth + 1):\n",
    "        # Get most of days in month\n",
    "        for day in range(1, 26):\n",
    "            # Create string of date for URL\n",
    "            if day < 10:\n",
    "                current = '2024-0' + str(month) + '-0' + str(day)\n",
    "            else:\n",
    "                current = '2024-0' + str(month) + '-0' + str(day) \n",
    "            \n",
    "            # Make request\n",
    "            url = 'https://api.polygon.io/v1/open-close/AMC/' + current + '?adjusted=false&apiKey=7D5CzmUoiB7fJq1uJeaUi13wadh3n4wC'\n",
    "            r = requests.get(url)\n",
    "            jsonData = r.json()\n",
    "            \n",
    "            # Add date-specific data to dictionary\n",
    "            data[\"Open\"].append(jsonData['open'])\n",
    "            data[\"High\"].append(jsonData['high'])\n",
    "            data[\"Low\"].append(jsonData[\"low\"])\n",
    "            data[\"Close\"].append(jsonData['close'])\n",
    "            data[\"Volume\"].append(jsonData['volume'])\n",
    "            date = pd.to_datetime(current)\n",
    "            data[\"Date\"].append(date)\n",
    "    \n",
    "        # Remove break statements if you want to make multiple requests\n",
    "            break\n",
    "        break\n",
    "    \n",
    "    # return dataframe of data\n",
    "    return pd.DataFrame(data)"
   ]
  },
  {
   "cell_type": "code",
   "execution_count": 37,
   "id": "c6c0722c",
   "metadata": {},
   "outputs": [
    {
     "ename": "KeyError",
     "evalue": "'open'",
     "output_type": "error",
     "traceback": [
      "\u001b[1;31m---------------------------------------------------------------------------\u001b[0m",
      "\u001b[1;31mKeyError\u001b[0m                                  Traceback (most recent call last)",
      "\u001b[1;32m~\\AppData\\Local\\Temp\\ipykernel_4576\\4080144502.py\u001b[0m in \u001b[0;36m<module>\u001b[1;34m\u001b[0m\n\u001b[1;32m----> 1\u001b[1;33m \u001b[0mprint\u001b[0m\u001b[1;33m(\u001b[0m\u001b[0mgather_data\u001b[0m\u001b[1;33m(\u001b[0m\u001b[1;34m'2020-01-01'\u001b[0m\u001b[1;33m,\u001b[0m \u001b[1;34m'2024-12-31'\u001b[0m\u001b[1;33m)\u001b[0m\u001b[1;33m)\u001b[0m\u001b[1;33m\u001b[0m\u001b[1;33m\u001b[0m\u001b[0m\n\u001b[0m",
      "\u001b[1;32m~\\AppData\\Local\\Temp\\ipykernel_4576\\2765240064.py\u001b[0m in \u001b[0;36mgather_data\u001b[1;34m(start, end)\u001b[0m\n\u001b[0;32m     28\u001b[0m \u001b[1;33m\u001b[0m\u001b[0m\n\u001b[0;32m     29\u001b[0m             \u001b[1;31m# Add date-specific data to dictionary\u001b[0m\u001b[1;33m\u001b[0m\u001b[1;33m\u001b[0m\u001b[0m\n\u001b[1;32m---> 30\u001b[1;33m             \u001b[0mdata\u001b[0m\u001b[1;33m[\u001b[0m\u001b[1;34m\"Open\"\u001b[0m\u001b[1;33m]\u001b[0m\u001b[1;33m.\u001b[0m\u001b[0mappend\u001b[0m\u001b[1;33m(\u001b[0m\u001b[0mjsonData\u001b[0m\u001b[1;33m[\u001b[0m\u001b[1;34m'open'\u001b[0m\u001b[1;33m]\u001b[0m\u001b[1;33m)\u001b[0m\u001b[1;33m\u001b[0m\u001b[1;33m\u001b[0m\u001b[0m\n\u001b[0m\u001b[0;32m     31\u001b[0m             \u001b[0mdata\u001b[0m\u001b[1;33m[\u001b[0m\u001b[1;34m\"High\"\u001b[0m\u001b[1;33m]\u001b[0m\u001b[1;33m.\u001b[0m\u001b[0mappend\u001b[0m\u001b[1;33m(\u001b[0m\u001b[0mjsonData\u001b[0m\u001b[1;33m[\u001b[0m\u001b[1;34m'high'\u001b[0m\u001b[1;33m]\u001b[0m\u001b[1;33m)\u001b[0m\u001b[1;33m\u001b[0m\u001b[1;33m\u001b[0m\u001b[0m\n\u001b[0;32m     32\u001b[0m             \u001b[0mdata\u001b[0m\u001b[1;33m[\u001b[0m\u001b[1;34m\"Low\"\u001b[0m\u001b[1;33m]\u001b[0m\u001b[1;33m.\u001b[0m\u001b[0mappend\u001b[0m\u001b[1;33m(\u001b[0m\u001b[0mjsonData\u001b[0m\u001b[1;33m[\u001b[0m\u001b[1;34m\"low\"\u001b[0m\u001b[1;33m]\u001b[0m\u001b[1;33m)\u001b[0m\u001b[1;33m\u001b[0m\u001b[1;33m\u001b[0m\u001b[0m\n",
      "\u001b[1;31mKeyError\u001b[0m: 'open'"
     ]
    }
   ],
   "source": [
    "print(gather_data('2020-01-01', '2024-12-31'))\n"
   ]
  },
  {
   "cell_type": "code",
   "execution_count": 38,
   "id": "958f72c0",
   "metadata": {},
   "outputs": [],
   "source": [
    "dfwsb = pd.read_json(\"light_encode_wsb.json\", encoding = 'ISO-8859-1')"
   ]
  },
  {
   "cell_type": "code",
   "execution_count": null,
   "id": "cf98a4c6",
   "metadata": {},
   "outputs": [],
   "source": [
    "sns.scatterplot(x='open', y='close', data=df)\n"
   ]
  }
 ],
 "metadata": {
  "kernelspec": {
   "display_name": "Python 3 (ipykernel)",
   "language": "python",
   "name": "python3"
  },
  "language_info": {
   "codemirror_mode": {
    "name": "ipython",
    "version": 3
   },
   "file_extension": ".py",
   "mimetype": "text/x-python",
   "name": "python",
   "nbconvert_exporter": "python",
   "pygments_lexer": "ipython3",
   "version": "3.9.13"
  }
 },
 "nbformat": 4,
 "nbformat_minor": 5
}
