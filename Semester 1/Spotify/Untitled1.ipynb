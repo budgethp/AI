{
 "cells": [
  {
   "cell_type": "code",
   "execution_count": 1,
   "id": "b58f316f",
   "metadata": {},
   "outputs": [],
   "source": [
    "import pandas as pd\n",
    "import seaborn as sns\n",
    "df = pd.read_csv(\"spotify2023.csv\", encoding='iso-8859-1')"
   ]
  },
  {
   "cell_type": "code",
   "execution_count": 2,
   "id": "40c348e2",
   "metadata": {},
   "outputs": [
    {
     "data": {
      "text/plain": [
       "7897.608990375096"
      ]
     },
     "execution_count": 2,
     "metadata": {},
     "output_type": "execute_result"
    }
   ],
   "source": [
    "def standard_deviation(dataframe, column):\n",
    "    std = dataframe[column].std()\n",
    "    return std\n",
    "standard_deviation(df, \"in_spotify_playlists\")"
   ]
  },
  {
   "cell_type": "code",
   "execution_count": null,
   "id": "2bf5c13f",
   "metadata": {},
   "outputs": [],
   "source": []
  }
 ],
 "metadata": {
  "kernelspec": {
   "display_name": "Python 3 (ipykernel)",
   "language": "python",
   "name": "python3"
  },
  "language_info": {
   "codemirror_mode": {
    "name": "ipython",
    "version": 3
   },
   "file_extension": ".py",
   "mimetype": "text/x-python",
   "name": "python",
   "nbconvert_exporter": "python",
   "pygments_lexer": "ipython3",
   "version": "3.9.13"
  }
 },
 "nbformat": 4,
 "nbformat_minor": 5
}
