{
 "cells": [
  {
   "cell_type": "code",
   "execution_count": 44,
   "id": "7895362c",
   "metadata": {},
   "outputs": [],
   "source": [
    "import pandas as pd\n",
    "import seaborn as sns\n",
    "df = pd.read_csv(\"spotify_songs.csv\", encoding='iso-8859-1')"
   ]
  },
  {
   "cell_type": "code",
   "execution_count": 45,
   "id": "95e59378",
   "metadata": {},
   "outputs": [],
   "source": [
    "def standard_deviation(dataframe, column):\n",
    "    std = dataframe[column].std()\n",
    "    return std"
   ]
  },
  {
   "cell_type": "code",
   "execution_count": 46,
   "id": "e17e3cd8",
   "metadata": {},
   "outputs": [
    {
     "data": {
      "text/plain": [
       "24.984074486186543"
      ]
     },
     "execution_count": 46,
     "metadata": {},
     "output_type": "execute_result"
    }
   ],
   "source": [
    "standard_deviation(df, \"track_popularity\")"
   ]
  },
  {
   "cell_type": "code",
   "execution_count": 47,
   "id": "3e3971f0",
   "metadata": {},
   "outputs": [
    {
     "data": {
      "text/plain": [
       "<seaborn.axisgrid.FacetGrid at 0x1ab66d79af0>"
      ]
     },
     "execution_count": 47,
     "metadata": {},
     "output_type": "execute_result"
    }
   ],
   "source": [
    "sns.displot(df, x=\"track_popularity\", binwidth=3)"
   ]
  },
  {
   "cell_type": "code",
   "execution_count": null,
   "id": "7bddc21d",
   "metadata": {},
   "outputs": [],
   "source": []
  },
  {
   "cell_type": "code",
   "execution_count": 43,
   "id": "908ba0e7",
   "metadata": {},
   "outputs": [
    {
     "data": {
      "text/plain": [
       "<seaborn.axisgrid.FacetGrid at 0x1ab6380f100>"
      ]
     },
     "execution_count": 43,
     "metadata": {},
     "output_type": "execute_result"
    }
   ],
   "source": [
    "sns.displot(df, x=\"track_popularity\", binwidth=3)"
   ]
  },
  {
   "cell_type": "code",
   "execution_count": 33,
   "id": "74efd914",
   "metadata": {},
   "outputs": [],
   "source": [
    "def avg(col):\n",
    "    average = col.mean()\n",
    "    return average"
   ]
  },
  {
   "cell_type": "code",
   "execution_count": 34,
   "id": "63aa3825",
   "metadata": {},
   "outputs": [
    {
     "data": {
      "text/plain": [
       "42.477080985593766"
      ]
     },
     "execution_count": 34,
     "metadata": {},
     "output_type": "execute_result"
    }
   ],
   "source": [
    "avg(df[\"track_popularity\"])"
   ]
  },
  {
   "cell_type": "code",
   "execution_count": 42,
   "id": "5da9d64c",
   "metadata": {},
   "outputs": [
    {
     "name": "stdout",
     "output_type": "stream",
     "text": [
      "32833\n"
     ]
    }
   ],
   "source": [
    "totalpop = 0\n",
    "total100 = 0\n",
    "for number in df[\"track_popularity\"]:\n",
    "    if df.loc[number][\"track_popularity\"] == 100:\n",
    "        total100 += 1\n",
    "    else:\n",
    "        totalpop += 1\n",
    "print(totalpop)\n",
    "        \n"
   ]
  },
  {
   "cell_type": "code",
   "execution_count": null,
   "id": "0ce247ea",
   "metadata": {},
   "outputs": [],
   "source": []
  }
 ],
 "metadata": {
  "kernelspec": {
   "display_name": "Python 3 (ipykernel)",
   "language": "python",
   "name": "python3"
  },
  "language_info": {
   "codemirror_mode": {
    "name": "ipython",
    "version": 3
   },
   "file_extension": ".py",
   "mimetype": "text/x-python",
   "name": "python",
   "nbconvert_exporter": "python",
   "pygments_lexer": "ipython3",
   "version": "3.9.13"
  }
 },
 "nbformat": 4,
 "nbformat_minor": 5
}
