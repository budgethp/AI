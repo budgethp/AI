{
 "cells": [
  {
   "cell_type": "code",
   "execution_count": 1,
   "id": "e91ac554",
   "metadata": {},
   "outputs": [],
   "source": [
    "import pandas as pd\n",
    "import seaborn as sns\n",
    "df = pd.read_csv(\"spotify_songs.csv\", encoding='iso-8859-1')"
   ]
  },
  {
   "cell_type": "code",
   "execution_count": 13,
   "id": "0f87a413",
   "metadata": {},
   "outputs": [],
   "source": [
    "def standard_deviation(dataframe, column):\n",
    "    std = dataframe[column].std()\n",
    "    return std"
   ]
  },
  {
   "cell_type": "code",
   "execution_count": 3,
   "id": "e482b0a8",
   "metadata": {},
   "outputs": [
    {
     "data": {
      "text/plain": [
       "24.984074486186543"
      ]
     },
     "execution_count": 3,
     "metadata": {},
     "output_type": "execute_result"
    }
   ],
   "source": [
    "standard_deviation(df, \"track_popularity\")"
   ]
  },
  {
   "cell_type": "code",
   "execution_count": 4,
   "id": "1cc80ac5",
   "metadata": {},
   "outputs": [
    {
     "data": {
      "text/plain": [
       "<seaborn.axisgrid.FacetGrid at 0x1e921be15e0>"
      ]
     },
     "execution_count": 4,
     "metadata": {},
     "output_type": "execute_result"
    },
    {
     "data": {
      "image/png": "[encoded data removed]",
      "text/plain": [
       "<Figure size 500x500 with 1 Axes>"
      ]
     },
     "metadata": {},
     "output_type": "display_data"
    }
   ],
   "source": [
    "sns.displot(df, x=\"danceability\", binwidth=3)"
   ]
  },
  {
   "cell_type": "code",
   "execution_count": null,
   "id": "512d42df",
   "metadata": {},
   "outputs": [],
   "source": []
  },
  {
   "cell_type": "code",
   "execution_count": 5,
   "id": "b749d436",
   "metadata": {},
   "outputs": [
    {
     "data": {
      "text/plain": [
       "<seaborn.axisgrid.FacetGrid at 0x1ded4ec1370>"
      ]
     },
     "execution_count": 5,
     "metadata": {},
     "output_type": "execute_result"
    }
   ],
   "source": [
    "sns.displot(df, x=\"track_popularity\", binwidth=3)"
   ]
  },
  {
   "cell_type": "code",
   "execution_count": 9,
   "id": "34ca9da6",
   "metadata": {},
   "outputs": [],
   "source": [
    "def avg(col):\n",
    "    average = col.mean()\n",
    "    return average"
   ]
  },
  {
   "cell_type": "code",
   "execution_count": 10,
   "id": "73eaef66",
   "metadata": {},
   "outputs": [
    {
     "data": {
      "text/plain": [
       "42.477080985593766"
      ]
     },
     "execution_count": 10,
     "metadata": {},
     "output_type": "execute_result"
    }
   ],
   "source": [
    "avg(df[\"track_popularity\"])"
   ]
  },
  {
   "cell_type": "code",
   "execution_count": 11,
   "id": "6077bf36",
   "metadata": {},
   "outputs": [
    {
     "name": "stdout",
     "output_type": "stream",
     "text": [
      "2\n"
     ]
    }
   ],
   "source": [
    "totalpop = 0\n",
    "total100 = 0\n",
    "for idx in range(32333):\n",
    "    if df.loc[idx][\"track_popularity\"] == 100:\n",
    "        total100 += 1\n",
    "    else:\n",
    "        totalpop += 1\n",
    "print(total100)\n",
    "        \n"
   ]
  },
  {
   "cell_type": "code",
   "execution_count": 12,
   "id": "57b73d15",
   "metadata": {},
   "outputs": [
    {
     "data": {
      "text/plain": [
       "0.6548495202996926"
      ]
     },
     "execution_count": 12,
     "metadata": {},
     "output_type": "execute_result"
    }
   ],
   "source": [
    "avg(df[\"danceability\"])"
   ]
  },
  {
   "cell_type": "code",
   "execution_count": 14,
   "id": "b6a8f27a",
   "metadata": {},
   "outputs": [
    {
     "data": {
      "text/plain": [
       "0.14508532044765107"
      ]
     },
     "execution_count": 14,
     "metadata": {},
     "output_type": "execute_result"
    }
   ],
   "source": [
    "standard_deviation(df, \"danceability\")"
   ]
  },
  {
   "cell_type": "code",
   "execution_count": null,
   "id": "ee27d99f",
   "metadata": {},
   "outputs": [],
   "source": []
  }
 ],
 "metadata": {
  "kernelspec": {
   "display_name": "Python 3 (ipykernel)",
   "language": "python",
   "name": "python3"
  },
  "language_info": {
   "codemirror_mode": {
    "name": "ipython",
    "version": 3
   },
   "file_extension": ".py",
   "mimetype": "text/x-python",
   "name": "python",
   "nbconvert_exporter": "python",
   "pygments_lexer": "ipython3",
   "version": "3.9.13"
  }
 },
 "nbformat": 4,
 "nbformat_minor": 5
}
