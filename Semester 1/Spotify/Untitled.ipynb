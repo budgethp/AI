{
 "cells": [
  {
   "cell_type": "code",
   "execution_count": 2,
   "id": "87bb1ee0",
   "metadata": {},
   "outputs": [],
   "source": [
    "import pandas as pd\n",
    "import seaborn as sns\n",
    "df = pd.read_csv(\"spotify_songs.csv\", encoding='iso-8859-1')"
   ]
  },
  {
   "cell_type": "code",
   "execution_count": 5,
   "id": "cbc78cea",
   "metadata": {},
   "outputs": [
    {
     "data": {
      "text/plain": [
       "<seaborn.axisgrid.FacetGrid at 0x1d8bc5ba6d0>"
      ]
     },
     "execution_count": 5,
     "metadata": {},
     "output_type": "execute_result"
    }
   ],
   "source": [
    "\n",
    "\n",
    "sns.displot(df, x=\"track_popularity\", binwidth=3)"
   ]
  },
  {
   "cell_type": "code",
   "execution_count": 26,
   "id": "c3faf56e",
   "metadata": {},
   "outputs": [],
   "source": [
    "def avg(col):\n",
    "    average = col.mean()\n",
    "    return average\n",
    "    \n",
    "        \n",
    "\n",
    "    \n",
    "    "
   ]
  },
  {
   "cell_type": "code",
   "execution_count": 27,
   "id": "1c122d25",
   "metadata": {},
   "outputs": [
    {
     "data": {
      "text/plain": [
       "120.88113154448297"
      ]
     },
     "execution_count": 27,
     "metadata": {},
     "output_type": "execute_result"
    }
   ],
   "source": [
    "avg(df[\"tempo\"])"
   ]
  },
  {
   "cell_type": "code",
   "execution_count": 30,
   "id": "4b2a2489",
   "metadata": {},
   "outputs": [
    {
     "data": {
      "text/plain": [
       "0.14508532044765107"
      ]
     },
     "execution_count": 30,
     "metadata": {},
     "output_type": "execute_result"
    }
   ],
   "source": [
    "def standard_deviation(dataframe, column):\n",
    "    std = dataframe[column].std()\n",
    "    return std\n",
    "standard_deviation(df, \"danceability\")"
   ]
  },
  {
   "cell_type": "code",
   "execution_count": 31,
   "id": "4be2a92a",
   "metadata": {},
   "outputs": [
    {
     "data": {
      "text/plain": [
       "<seaborn.axisgrid.FacetGrid at 0x144317ffe20>"
      ]
     },
     "execution_count": 31,
     "metadata": {},
     "output_type": "execute_result"
    }
   ],
   "source": [
    "sns.displot(df, x=\"danceability\", binwidth=3)"
   ]
  },
  {
   "cell_type": "code",
   "execution_count": null,
   "id": "8670989e",
   "metadata": {},
   "outputs": [],
   "source": []
  }
 ],
 "metadata": {
  "kernelspec": {
   "display_name": "Python 3 (ipykernel)",
   "language": "python",
   "name": "python3"
  },
  "language_info": {
   "codemirror_mode": {
    "name": "ipython",
    "version": 3
   },
   "file_extension": ".py",
   "mimetype": "text/x-python",
   "name": "python",
   "nbconvert_exporter": "python",
   "pygments_lexer": "ipython3",
   "version": "3.9.13"
  }
 },
 "nbformat": 4,
 "nbformat_minor": 5
}
